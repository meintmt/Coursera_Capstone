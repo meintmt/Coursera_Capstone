{
    "nbformat_minor": 1, 
    "cells": [
        {
            "source": "Part 1", 
            "cell_type": "markdown", 
            "metadata": {
                "collapsed": true
            }
        }, 
        {
            "execution_count": 1, 
            "cell_type": "code", 
            "metadata": {}, 
            "outputs": [], 
            "source": "import pandas as pd\nimport requests\nimport lxml.html as lh"
        }, 
        {
            "source": "Scrapting Wiki page:", 
            "cell_type": "markdown", 
            "metadata": {}
        }, 
        {
            "execution_count": 16, 
            "cell_type": "code", 
            "metadata": {}, 
            "outputs": [
                {
                    "output_type": "stream", 
                    "name": "stdout", 
                    "text": "1:\"Postcode\"\n2:\"Borough\"\n3:\"Neighbourhood\n\"\n"
                }
            ], 
            "source": "url='https://en.wikipedia.org/wiki/List_of_postal_codes_of_Canada:_M'\npage = requests.get(url)\ndoc = lh.fromstring(page.content)\ntr_elements = doc.xpath('//tr')\ncol=[]\ni=0\nfor t in tr_elements[0]:\n    i+=1\n    name=t.text_content()\n    print ('%d:\"%s\"'%(i,name))\n    col.append((name,[]))"
        }, 
        {
            "source": "Creading a dataframe in Pandas:", 
            "cell_type": "markdown", 
            "metadata": {}
        }, 
        {
            "execution_count": 64, 
            "cell_type": "code", 
            "metadata": {}, 
            "outputs": [
                {
                    "execution_count": 64, 
                    "metadata": {}, 
                    "data": {
                        "text/html": "<div>\n<style scoped>\n    .dataframe tbody tr th:only-of-type {\n        vertical-align: middle;\n    }\n\n    .dataframe tbody tr th {\n        vertical-align: top;\n    }\n\n    .dataframe thead th {\n        text-align: right;\n    }\n</style>\n<table border=\"1\" class=\"dataframe\">\n  <thead>\n    <tr style=\"text-align: right;\">\n      <th></th>\n      <th>Postcode</th>\n      <th>Borough</th>\n      <th>Neighbourhood</th>\n    </tr>\n  </thead>\n  <tbody>\n    <tr>\n      <th>0</th>\n      <td>M1A</td>\n      <td>Not assigned</td>\n      <td>Not assigned\\n</td>\n    </tr>\n    <tr>\n      <th>1</th>\n      <td>M2A</td>\n      <td>Not assigned</td>\n      <td>Not assigned\\n</td>\n    </tr>\n    <tr>\n      <th>2</th>\n      <td>M3A</td>\n      <td>North York</td>\n      <td>Parkwoods\\n</td>\n    </tr>\n    <tr>\n      <th>3</th>\n      <td>M4A</td>\n      <td>North York</td>\n      <td>Victoria Village\\n</td>\n    </tr>\n    <tr>\n      <th>4</th>\n      <td>M5A</td>\n      <td>Downtown Toronto</td>\n      <td>Harbourfront\\n</td>\n    </tr>\n  </tbody>\n</table>\n</div>", 
                        "text/plain": "  Postcode           Borough     Neighbourhood\\n\n0      M1A      Not assigned      Not assigned\\n\n1      M2A      Not assigned      Not assigned\\n\n2      M3A        North York         Parkwoods\\n\n3      M4A        North York  Victoria Village\\n\n4      M5A  Downtown Toronto      Harbourfront\\n"
                    }, 
                    "output_type": "execute_result"
                }
            ], 
            "source": "for j in range(1,len(tr_elements)):\n    T=tr_elements[j]\n    if len(T)!=3:\n        break\n    i=0\n    for t in T.iterchildren():\n        data=t.text_content() \n        if i>0:\n            try:\n                data=int(data)\n            except:\n                pass\n        col[i][1].append(data)\n        i+=1\nDict={title:column for (title,column) in col}\ndf=pd.DataFrame(Dict)\ndf.head()"
        }, 
        {
            "source": "Cleaning the dataframe:", 
            "cell_type": "markdown", 
            "metadata": {}
        }, 
        {
            "execution_count": 59, 
            "cell_type": "code", 
            "metadata": {}, 
            "outputs": [
                {
                    "execution_count": 59, 
                    "metadata": {}, 
                    "data": {
                        "text/html": "<div>\n<style scoped>\n    .dataframe tbody tr th:only-of-type {\n        vertical-align: middle;\n    }\n\n    .dataframe tbody tr th {\n        vertical-align: top;\n    }\n\n    .dataframe thead th {\n        text-align: right;\n    }\n</style>\n<table border=\"1\" class=\"dataframe\">\n  <thead>\n    <tr style=\"text-align: right;\">\n      <th></th>\n      <th>Neighbourhood</th>\n      <th>PostCode</th>\n      <th>Borough</th>\n    </tr>\n  </thead>\n  <tbody>\n    <tr>\n      <th>0</th>\n      <td>Not assigned</td>\n      <td>M1A</td>\n      <td>Not assigned</td>\n    </tr>\n    <tr>\n      <th>1</th>\n      <td>Not assigned</td>\n      <td>M2A</td>\n      <td>Not assigned</td>\n    </tr>\n    <tr>\n      <th>2</th>\n      <td>Parkwoods</td>\n      <td>M3A</td>\n      <td>North York</td>\n    </tr>\n    <tr>\n      <th>3</th>\n      <td>Victoria Village</td>\n      <td>M4A</td>\n      <td>North York</td>\n    </tr>\n    <tr>\n      <th>4</th>\n      <td>Harbourfront</td>\n      <td>M5A</td>\n      <td>Downtown Toronto</td>\n    </tr>\n  </tbody>\n</table>\n</div>", 
                        "text/plain": "       Neighbourhood PostCode           Borough\n0      Not assigned       M1A      Not assigned\n1      Not assigned       M2A      Not assigned\n2         Parkwoods       M3A        North York\n3  Victoria Village       M4A        North York\n4      Harbourfront       M5A  Downtown Toronto"
                    }, 
                    "output_type": "execute_result"
                }
            ], 
            "source": "df.columns = ['PostCode','Borough','Neighbourhood']\ncols = df.columns.tolist()\ncols = cols[-1:] + cols[:-1]\ndf = df[cols]\ndf = df.replace('\\n',' ', regex=True)\ndf.head()"
        }, 
        {
            "execution_count": 60, 
            "cell_type": "code", 
            "metadata": {}, 
            "outputs": [
                {
                    "execution_count": 60, 
                    "metadata": {}, 
                    "data": {
                        "text/html": "<div>\n<style scoped>\n    .dataframe tbody tr th:only-of-type {\n        vertical-align: middle;\n    }\n\n    .dataframe tbody tr th {\n        vertical-align: top;\n    }\n\n    .dataframe thead th {\n        text-align: right;\n    }\n</style>\n<table border=\"1\" class=\"dataframe\">\n  <thead>\n    <tr style=\"text-align: right;\">\n      <th></th>\n      <th>Neighbourhood</th>\n      <th>PostCode</th>\n      <th>Borough</th>\n    </tr>\n  </thead>\n  <tbody>\n    <tr>\n      <th>0</th>\n      <td>Parkwoods</td>\n      <td>M3A</td>\n      <td>North York</td>\n    </tr>\n    <tr>\n      <th>1</th>\n      <td>Victoria Village</td>\n      <td>M4A</td>\n      <td>North York</td>\n    </tr>\n    <tr>\n      <th>2</th>\n      <td>Harbourfront</td>\n      <td>M5A</td>\n      <td>Downtown Toronto</td>\n    </tr>\n    <tr>\n      <th>3</th>\n      <td>Regent Park</td>\n      <td>M5A</td>\n      <td>Downtown Toronto</td>\n    </tr>\n    <tr>\n      <th>4</th>\n      <td>Lawrence Heights</td>\n      <td>M6A</td>\n      <td>North York</td>\n    </tr>\n  </tbody>\n</table>\n</div>", 
                        "text/plain": "       Neighbourhood PostCode           Borough\n0         Parkwoods       M3A        North York\n1  Victoria Village       M4A        North York\n2      Harbourfront       M5A  Downtown Toronto\n3       Regent Park       M5A  Downtown Toronto\n4  Lawrence Heights       M6A        North York"
                    }, 
                    "output_type": "execute_result"
                }
            ], 
            "source": "df.drop(df.index[df['Borough'] == 'Not assigned'], inplace = True)\ndf = df.reset_index(drop=True)\ndf.head()"
        }, 
        {
            "execution_count": 61, 
            "cell_type": "code", 
            "metadata": {}, 
            "outputs": [
                {
                    "execution_count": 61, 
                    "metadata": {}, 
                    "data": {
                        "text/html": "<div>\n<style scoped>\n    .dataframe tbody tr th:only-of-type {\n        vertical-align: middle;\n    }\n\n    .dataframe tbody tr th {\n        vertical-align: top;\n    }\n\n    .dataframe thead th {\n        text-align: right;\n    }\n</style>\n<table border=\"1\" class=\"dataframe\">\n  <thead>\n    <tr style=\"text-align: right;\">\n      <th></th>\n      <th>PostCode</th>\n      <th>Borough</th>\n      <th>Neighbourhood</th>\n    </tr>\n  </thead>\n  <tbody>\n    <tr>\n      <th>0</th>\n      <td>M1B</td>\n      <td>Scarborough</td>\n      <td>Rouge ,Malvern ,Rouge ,Malvern ,Rouge ,Malvern...</td>\n    </tr>\n    <tr>\n      <th>1</th>\n      <td>M1C</td>\n      <td>Scarborough</td>\n      <td>Highland Creek ,Rouge Hill ,Port Union ,Highla...</td>\n    </tr>\n    <tr>\n      <th>2</th>\n      <td>M1E</td>\n      <td>Scarborough</td>\n      <td>Guildwood ,Morningside ,West Hill ,Guildwood ,...</td>\n    </tr>\n    <tr>\n      <th>3</th>\n      <td>M1G</td>\n      <td>Scarborough</td>\n      <td>Woburn ,Woburn ,Woburn ,Woburn ,Woburn ,Woburn</td>\n    </tr>\n    <tr>\n      <th>4</th>\n      <td>M1H</td>\n      <td>Scarborough</td>\n      <td>Cedarbrae ,Cedarbrae ,Cedarbrae ,Cedarbrae ,Ce...</td>\n    </tr>\n  </tbody>\n</table>\n</div>", 
                        "text/plain": "  PostCode      Borough                                      Neighbourhood\n0      M1B  Scarborough  Rouge ,Malvern ,Rouge ,Malvern ,Rouge ,Malvern...\n1      M1C  Scarborough  Highland Creek ,Rouge Hill ,Port Union ,Highla...\n2      M1E  Scarborough  Guildwood ,Morningside ,West Hill ,Guildwood ,...\n3      M1G  Scarborough    Woburn ,Woburn ,Woburn ,Woburn ,Woburn ,Woburn \n4      M1H  Scarborough  Cedarbrae ,Cedarbrae ,Cedarbrae ,Cedarbrae ,Ce..."
                    }, 
                    "output_type": "execute_result"
                }
            ], 
            "source": "df = df.groupby(['PostCode', 'Borough'])['Neighbourhood'].apply(','.join).reset_index()\ndf.columns = ['PostCode','Borough','Neighbourhood']\ndf.head()"
        }, 
        {
            "execution_count": 62, 
            "cell_type": "code", 
            "metadata": {}, 
            "outputs": [], 
            "source": "df['Neighbourhood'] = df['Neighbourhood'].str.strip()\ndf.loc[df['Neighbourhood'] == 'Not assigned', 'Neighbourhood'] = df['Borough']"
        }, 
        {
            "execution_count": 63, 
            "cell_type": "code", 
            "metadata": {}, 
            "outputs": [
                {
                    "execution_count": 63, 
                    "metadata": {}, 
                    "data": {
                        "text/plain": "(103, 3)"
                    }, 
                    "output_type": "execute_result"
                }
            ], 
            "source": "df.shape"
        }, 
        {
            "execution_count": null, 
            "cell_type": "code", 
            "metadata": {}, 
            "outputs": [], 
            "source": ""
        }
    ], 
    "metadata": {
        "kernelspec": {
            "display_name": "Python 3.6", 
            "name": "python3", 
            "language": "python"
        }, 
        "language_info": {
            "mimetype": "text/x-python", 
            "nbconvert_exporter": "python", 
            "version": "3.6.8", 
            "name": "python", 
            "file_extension": ".py", 
            "pygments_lexer": "ipython3", 
            "codemirror_mode": {
                "version": 3, 
                "name": "ipython"
            }
        }
    }, 
    "nbformat": 4
}