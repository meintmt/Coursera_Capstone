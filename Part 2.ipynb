{
    "nbformat_minor": 1, 
    "cells": [
        {
            "execution_count": 17, 
            "cell_type": "code", 
            "metadata": {}, 
            "outputs": [
                {
                    "execution_count": 17, 
                    "metadata": {}, 
                    "data": {
                        "text/plain": "(103, 3)"
                    }, 
                    "output_type": "execute_result"
                }
            ], 
            "source": "import pandas as pd\nimport numpy as np\n\nlink = \"http://cocl.us/Geospatial_data\"\ndf1 = pd.read_csv(link)\ndf1.shape"
        }, 
        {
            "execution_count": 28, 
            "cell_type": "code", 
            "metadata": {}, 
            "outputs": [
                {
                    "execution_count": 28, 
                    "metadata": {}, 
                    "data": {
                        "text/plain": "['PostCode', 'Latitude', 'Longitude']"
                    }, 
                    "output_type": "execute_result"
                }
            ], 
            "source": "df1.columns = ['PostCode','Latitude','Longitude']\n\ncols = df1.columns.tolist()\ncols"
        }, 
        {
            "execution_count": 30, 
            "cell_type": "code", 
            "metadata": {}, 
            "outputs": [
                {
                    "execution_count": 30, 
                    "metadata": {}, 
                    "data": {
                        "text/html": "<div>\n<style scoped>\n    .dataframe tbody tr th:only-of-type {\n        vertical-align: middle;\n    }\n\n    .dataframe tbody tr th {\n        vertical-align: top;\n    }\n\n    .dataframe thead th {\n        text-align: right;\n    }\n</style>\n<table border=\"1\" class=\"dataframe\">\n  <thead>\n    <tr style=\"text-align: right;\">\n      <th></th>\n      <th>PostCode</th>\n      <th>Borough</th>\n      <th>Neighbourhood</th>\n    </tr>\n  </thead>\n  <tbody>\n    <tr>\n      <th>0</th>\n      <td>M1B</td>\n      <td>Scarborough</td>\n      <td>Rouge ,Malvern</td>\n    </tr>\n    <tr>\n      <th>1</th>\n      <td>M1C</td>\n      <td>Scarborough</td>\n      <td>Highland Creek ,Rouge Hill ,Port Union</td>\n    </tr>\n    <tr>\n      <th>2</th>\n      <td>M1E</td>\n      <td>Scarborough</td>\n      <td>Guildwood ,Morningside ,West Hill</td>\n    </tr>\n    <tr>\n      <th>3</th>\n      <td>M1G</td>\n      <td>Scarborough</td>\n      <td>Woburn</td>\n    </tr>\n    <tr>\n      <th>4</th>\n      <td>M1H</td>\n      <td>Scarborough</td>\n      <td>Cedarbrae</td>\n    </tr>\n  </tbody>\n</table>\n</div>", 
                        "text/plain": "  PostCode      Borough                           Neighbourhood\n0      M1B  Scarborough                          Rouge ,Malvern\n1      M1C  Scarborough  Highland Creek ,Rouge Hill ,Port Union\n2      M1E  Scarborough       Guildwood ,Morningside ,West Hill\n3      M1G  Scarborough                                  Woburn\n4      M1H  Scarborough                               Cedarbrae"
                    }, 
                    "output_type": "execute_result"
                }
            ], 
            "source": "link = \"https://raw.githubusercontent.com/meintmt/Coursera_Capstone/master/df_can.csv\"\ndf = pd.read_csv(link,index_col=0)\ndf.head()"
        }, 
        {
            "execution_count": 31, 
            "cell_type": "code", 
            "metadata": {}, 
            "outputs": [
                {
                    "execution_count": 31, 
                    "metadata": {}, 
                    "data": {
                        "text/html": "<div>\n<style scoped>\n    .dataframe tbody tr th:only-of-type {\n        vertical-align: middle;\n    }\n\n    .dataframe tbody tr th {\n        vertical-align: top;\n    }\n\n    .dataframe thead th {\n        text-align: right;\n    }\n</style>\n<table border=\"1\" class=\"dataframe\">\n  <thead>\n    <tr style=\"text-align: right;\">\n      <th></th>\n      <th>PostCode</th>\n      <th>Borough</th>\n      <th>Neighbourhood</th>\n      <th>Latitude</th>\n      <th>Longitude</th>\n    </tr>\n  </thead>\n  <tbody>\n    <tr>\n      <th>0</th>\n      <td>M1B</td>\n      <td>Scarborough</td>\n      <td>Rouge ,Malvern</td>\n      <td>43.806686</td>\n      <td>-79.194353</td>\n    </tr>\n    <tr>\n      <th>1</th>\n      <td>M1C</td>\n      <td>Scarborough</td>\n      <td>Highland Creek ,Rouge Hill ,Port Union</td>\n      <td>43.784535</td>\n      <td>-79.160497</td>\n    </tr>\n    <tr>\n      <th>2</th>\n      <td>M1E</td>\n      <td>Scarborough</td>\n      <td>Guildwood ,Morningside ,West Hill</td>\n      <td>43.763573</td>\n      <td>-79.188711</td>\n    </tr>\n    <tr>\n      <th>3</th>\n      <td>M1G</td>\n      <td>Scarborough</td>\n      <td>Woburn</td>\n      <td>43.770992</td>\n      <td>-79.216917</td>\n    </tr>\n    <tr>\n      <th>4</th>\n      <td>M1H</td>\n      <td>Scarborough</td>\n      <td>Cedarbrae</td>\n      <td>43.773136</td>\n      <td>-79.239476</td>\n    </tr>\n  </tbody>\n</table>\n</div>", 
                        "text/plain": "  PostCode      Borough                           Neighbourhood   Latitude  \\\n0      M1B  Scarborough                          Rouge ,Malvern  43.806686   \n1      M1C  Scarborough  Highland Creek ,Rouge Hill ,Port Union  43.784535   \n2      M1E  Scarborough       Guildwood ,Morningside ,West Hill  43.763573   \n3      M1G  Scarborough                                  Woburn  43.770992   \n4      M1H  Scarborough                               Cedarbrae  43.773136   \n\n   Longitude  \n0 -79.194353  \n1 -79.160497  \n2 -79.188711  \n3 -79.216917  \n4 -79.239476  "
                    }, 
                    "output_type": "execute_result"
                }
            ], 
            "source": "df_new = pd.merge(df, df1, on='PostCode')\ndf_new.head()"
        }, 
        {
            "execution_count": 32, 
            "cell_type": "code", 
            "metadata": {}, 
            "outputs": [], 
            "source": "df_new.to_csv(r'df_final.csv')"
        }, 
        {
            "execution_count": 33, 
            "cell_type": "code", 
            "metadata": {}, 
            "outputs": [], 
            "source": "from IPython.display import HTML\n\ndef create_download_link( df, title = \"Download CSV file\", filename = \"df_final.csv\"):  \n    csv = df.to_csv()\n    b64 = base64.b64encode(csv.encode())\n    payload = b64.decode()\n    html = '<a download=\"{filename}\" href=\"data:text/csv;base64,{payload}\" target=\"_blank\">{title}</a>'\n    html = html.format(payload=payload,title=title,filename=filename)\n    return HTML(html)"
        }, 
        {
            "execution_count": 34, 
            "cell_type": "code", 
            "metadata": {}, 
            "outputs": [
                {
                    "execution_count": 34, 
                    "metadata": {}, 
                    "data": {
                        "text/html": "<a download=\"df_final.csv\" href=\"data:text/csv;base64,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\" target=\"_blank\">Download CSV file</a>", 
                        "text/plain": "<IPython.core.display.HTML object>"
                    }, 
                    "output_type": "execute_result"
                }
            ], 
            "source": "import base64\ncreate_download_link(df_new)"
        }, 
        {
            "execution_count": null, 
            "cell_type": "code", 
            "metadata": {}, 
            "outputs": [], 
            "source": ""
        }
    ], 
    "metadata": {
        "kernelspec": {
            "display_name": "Python 3.6", 
            "name": "python3", 
            "language": "python"
        }, 
        "language_info": {
            "mimetype": "text/x-python", 
            "nbconvert_exporter": "python", 
            "version": "3.6.8", 
            "name": "python", 
            "file_extension": ".py", 
            "pygments_lexer": "ipython3", 
            "codemirror_mode": {
                "version": 3, 
                "name": "ipython"
            }
        }
    }, 
    "nbformat": 4
}